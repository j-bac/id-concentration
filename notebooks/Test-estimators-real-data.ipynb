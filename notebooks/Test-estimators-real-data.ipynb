{
 "cells": [
  {
   "cell_type": "code",
   "execution_count": 13,
   "metadata": {},
   "outputs": [
    {
     "name": "stdout",
     "output_type": "stream",
     "text": [
      "Requirement already satisfied: geomle in /home/utilisateur/.local/lib/python3.7/site-packages (1.0)\n",
      "Requirement already satisfied: numpy>=1.13.1 in /home/utilisateur/.local/lib/python3.7/site-packages (from geomle) (1.17.4)\n",
      "Requirement already satisfied: scikit-learn>=0.18 in /home/utilisateur/anaconda3/lib/python3.7/site-packages (from geomle) (0.21.3)\n",
      "Requirement already satisfied: pandas>=0.19 in /home/utilisateur/.local/lib/python3.7/site-packages (from geomle) (0.25.3)\n",
      "Requirement already satisfied: joblib>=0.11 in /home/utilisateur/.local/lib/python3.7/site-packages (from scikit-learn>=0.18->geomle) (0.14.1)\n",
      "Requirement already satisfied: scipy>=0.17.0 in /home/utilisateur/.local/lib/python3.7/site-packages (from scikit-learn>=0.18->geomle) (1.2.0)\n",
      "Requirement already satisfied: python-dateutil>=2.6.1 in /home/utilisateur/anaconda3/lib/python3.7/site-packages (from pandas>=0.19->geomle) (2.8.1)\n",
      "Requirement already satisfied: pytz>=2017.2 in /home/utilisateur/anaconda3/lib/python3.7/site-packages (from pandas>=0.19->geomle) (2019.3)\n",
      "Requirement already satisfied: six>=1.5 in /home/utilisateur/anaconda3/lib/python3.7/site-packages (from python-dateutil>=2.6.1->pandas>=0.19->geomle) (1.13.0)\n",
      "Requirement already satisfied: mnist in /home/utilisateur/anaconda3/lib/python3.7/site-packages (0.2.2)\n",
      "Requirement already satisfied: numpy in /home/utilisateur/.local/lib/python3.7/site-packages (from mnist) (1.17.4)\n",
      "Collecting emnist\n",
      "  Downloading https://files.pythonhosted.org/packages/d1/f4/78b24acbef9e8fe976dda700f16a3606f3b8363b015bc555f8050fbbd8ac/emnist-0.0-py3-none-any.whl\n",
      "Requirement already satisfied: tqdm in /home/utilisateur/anaconda3/lib/python3.7/site-packages (from emnist) (4.40.2)\n",
      "Requirement already satisfied: numpy in /home/utilisateur/.local/lib/python3.7/site-packages (from emnist) (1.17.4)\n",
      "Requirement already satisfied: requests in /home/utilisateur/anaconda3/lib/python3.7/site-packages (from emnist) (2.22.0)\n",
      "Requirement already satisfied: certifi>=2017.4.17 in /home/utilisateur/anaconda3/lib/python3.7/site-packages (from requests->emnist) (2019.11.28)\n",
      "Requirement already satisfied: idna<2.9,>=2.5 in /home/utilisateur/anaconda3/lib/python3.7/site-packages (from requests->emnist) (2.8)\n",
      "Requirement already satisfied: urllib3!=1.25.0,!=1.25.1,<1.26,>=1.21.1 in /home/utilisateur/anaconda3/lib/python3.7/site-packages (from requests->emnist) (1.25.7)\n",
      "Requirement already satisfied: chardet<3.1.0,>=3.0.2 in /home/utilisateur/anaconda3/lib/python3.7/site-packages (from requests->emnist) (3.0.4)\n",
      "Installing collected packages: emnist\n",
      "Successfully installed emnist-0.0\n"
     ]
    }
   ],
   "source": [
    "!pip install geomle\n",
    "!pip install mnist\n",
    "!pip install emnist"
   ]
  },
  {
   "cell_type": "code",
   "execution_count": 1,
   "metadata": {},
   "outputs": [],
   "source": [
    "import sys\n",
    "import os\n",
    "from os import path\n",
    "current_folder = path.dirname(path.abspath('')) \n",
    "sys.path.append(current_folder)\n",
    "from estimators import *\n",
    "from geomle import geomle, mle, DataGenerator\n",
    "import multiprocessing as mp\n",
    "from sklearn.neighbors import NearestNeighbors\n",
    "from scipy.linalg import cholesky\n",
    "from scipy.special import gammainc, lambertw\n",
    "from sklearn.datasets import fetch_openml\n",
    "import mnist as mnist_api\n",
    "import emnist as emnist_api\n",
    "import scipy.io\n",
    "import matplotlib as mpl\n",
    "from matplotlib import pyplot as plt\n",
    "import umap\n",
    "import seaborn as sns\n",
    "import random\n",
    "import time\n",
    "import numpy as np\n",
    "import pandas as pd\n",
    "import pickle\n",
    "import rpy2\n",
    "import rpy2.robjects as ro\n",
    "import rpy2.robjects.numpy2ri\n",
    "import rpy2.robjects.packages as rpackages\n",
    "from functools import wraps\n",
    "import subprocess\n",
    "from IPython.display import display_html\n",
    "from operator import itemgetter\n",
    "ig0 = itemgetter(0)\n",
    "ig1 = itemgetter(1)\n",
    "ig2 = itemgetter(2)\n",
    "rpy2.robjects.numpy2ri.activate()\n",
    "utils = rpackages.importr('utils')\n",
    "#utils.install_packages('intrinsicDimension')\n",
    "#utils.install_packages('ider')\n",
    "intdimr = rpackages.importr('intrinsicDimension')\n",
    "ider   = rpackages.importr('ider')\n",
    "r_base = rpackages.importr('base')"
   ]
  },
  {
   "cell_type": "code",
   "execution_count": 2,
   "metadata": {},
   "outputs": [],
   "source": [
    "def display_side_by_side(*args):\n",
    "    html_str=''\n",
    "    for df in args:\n",
    "        html_str+=df.to_html()\n",
    "    display_html(html_str.replace('table','table style=\"display:inline\"'),raw=True)\n",
    "\n",
    "def mean_sqe(estimations, truth):\n",
    "    '''\n",
    "    Mean squared error \n",
    "    '''\n",
    "    return ((estimations - truth)^2/truth).sum() /len(truth) \n",
    "    \n",
    "def mean_pe(estimations, truth):\n",
    "    '''\n",
    "    Mean percentage error \n",
    "    '''\n",
    "    return (abs(estimations - truth)/truth).sum() /len(truth)*100\n",
    "\n",
    "def mean_ge(estimations, truth):\n",
    "    '''\n",
    "    Mean geometric error: The geometric mean of the error *ratio*. It is always >= 1.\n",
    "    '''\n",
    "    ratios = np.concatenate(((estimations/truth)[np.newaxis, :], (truth/estimations)[np.newaxis, :]), axis=0)\n",
    "    return np.power(ratios.max(axis=0).prod(), 1.0/len(estimations))\n",
    "\n",
    "def med_pe(estimations, truth):\n",
    "    '''\n",
    "    Median error in %.\n",
    "    '''\n",
    "    return np.percentile(abs(estimations - truth)/truth, q=50)*100\n",
    "\n",
    "\n",
    "def randball(n_points,ndim,radius,center = []):\n",
    "    ''' Generate uniformly sampled ndim-sphere interior'''\n",
    "    if center == []:\n",
    "        center = np.array([0]*ndim)\n",
    "    r = radius\n",
    "    x = np.random.normal(size=(n_points, ndim))\n",
    "    ssq = np.sum(x**2,axis=1)\n",
    "    fr = r*gammainc(ndim/2,ssq/2)**(1/ndim)/np.sqrt(ssq)\n",
    "    frtiled = np.tile(fr.reshape(n_points,1),(1,ndim))\n",
    "    p = center + np.multiply(x,frtiled)\n",
    "    return p, center\n",
    "\n",
    "def proxy(tup):\n",
    "    function,X,Dict = tup\n",
    "    return function(X,**Dict)\n",
    "\n",
    "def get_nn(X,k,n_jobs=1):\n",
    "    neigh = NearestNeighbors(n_neighbors=k,n_jobs=n_jobs)\n",
    "    neigh.fit(X)\n",
    "    dists, inds = neigh.kneighbors(return_distance=True)\n",
    "    return dists,inds\n",
    "\n",
    "def asPointwise(data,function, params, precomputed_knn = None, n_neighbors=100, n_jobs=1):\n",
    "    '''Use a global estimator as a pointwise one by creating kNN neighborhoods'''\n",
    "    if precomputed_knn is not None:\n",
    "        knn = precomputed_knn\n",
    "    else:\n",
    "        _, knn = get_nn(data, k=n_neighbors, n_jobs=n_jobs)\n",
    "        \n",
    "    if n_jobs > 1:\n",
    "        pool = mp.Pool(n_jobs)\n",
    "        results = pool.map(proxy,[(function,data[i,:],params) for i in knn])\n",
    "        pool.close()\n",
    "        return results\n",
    "    else:\n",
    "        return [function(data[i,:],**params) for i in knn]\n",
    "\n",
    "\n",
    "from functools import wraps\n",
    "def calculate_time(func): \n",
    "    @wraps(func)\n",
    "    def inner_func(*args, **kwargs): \n",
    "        begin = time.time() \n",
    "        res = func(*args, **kwargs) \n",
    "        end = time.time()\n",
    "        return res, end - begin\n",
    "    return inner_func\n",
    "\n",
    "class DimEst():\n",
    "    def __init__(self):\n",
    "        self.names = ['MLE', 'GeoMLE', 'MIND', 'DANCo', 'FastDANCo', 'ESS', 'PCA', 'CD','FisherS','ANOVA','TwoNN']\n",
    "        self.caldatas = {}\n",
    "        \n",
    "    def estimateAllMethods(self, data,ConditionalNumber=10):\n",
    "        dim = data.shape[1]\n",
    "        self.funcs = {'MLE':          self.mle(data),\n",
    "                      #'GeoMLE':       self.geomle(data, dim),\n",
    "                      #'DANCo':        self.danco(data, dim),\n",
    "                      'FastDANCo':    self.fast_danco(data),\n",
    "                      #'ESS':          self.ess(data),\n",
    "                      'PCA':          self.pca(data),\n",
    "                      #'CD':           self.cd(data),\n",
    "                      'FisherS':      self.fisherS(data,ConditionalNumber),\n",
    "                      'ANOVA':        self.anova(data),\n",
    "                      'TwoNN':        self.twonn(data)\n",
    "                     }\n",
    "                      \n",
    "        self.times = {key: ig1(val) for key, val in self.funcs.items()}\n",
    "        self.funcs = {key: ig0(val) for key, val in self.funcs.items()}\n",
    "        return self.funcs, self.times\n",
    "    \n",
    "    def estimateAllMethodsLocally(self, data, k, n_jobs = 1, ConditionalNumber = 10):\n",
    "        dim = data.shape[1]\n",
    "        \n",
    "        _, knn = get_nn(data, k, n_jobs)\n",
    "        \n",
    "        mle_pw, tle_pw, mom_pw, ed_pw, ged_pw, pca_pw, mind_mlk_pw, mind_mli_pw = self.rado_ests(data,k).values()\n",
    "        self.funcs = {'MLE':           self.mlelocal(data,k),\n",
    "                      #'GeoMLE':        self.geomlelocal(data, dim),\n",
    "                      #'mind_mlk':          asPointwise(data,self.mind_mlk,{'dim':dim},precomputed_knn=knn,n_jobs=1),\n",
    "                      #'mind_mli':          asPointwise(data,self.mind_mli,{'dim':dim},precomputed_knn=knn,n_jobs=1),\n",
    "                      #'DANCo':         asPointwise(data,self.danco,{'dim':dim},precomputed_knn=knn,n_jobs=1),\n",
    "                      'FastDANCo':     self.fast_dancoloop(data),\n",
    "                      'ESS':           asPointwise(data,self.ess,{},precomputed_knn=knn,n_jobs=n_jobs),\n",
    "                      'PCA':           asPointwise(data,self.pca,{},precomputed_knn=knn,n_jobs=1),\n",
    "                      'CD':            asPointwise(data,self.lcd,{},precomputed_knn=knn,n_jobs=n_jobs),\n",
    "                      'FisherS':       asPointwise(data,self.fisherS,{'ConditionalNumber':ConditionalNumber},precomputed_knn=knn,n_jobs=n_jobs),\n",
    "                      'FisherSglobpw': self.fisherS(data,ConditionalNumber,global_pw=True),\n",
    "                      'ANOVA':         self.anovalocal(data,k),\n",
    "                      'TwoNN':         asPointwise(data,self.twonn,{},precomputed_knn=knn,n_jobs=n_jobs),\n",
    "                      'radoMLE':       mle_pw,\n",
    "                      'radoTLE':       tle_pw,\n",
    "                      'radoMOM':       mom_pw,\n",
    "                      'radoED':        ed_pw,\n",
    "                      'radoGED':       ged_pw,\n",
    "                      'radoPCA':       pca_pw,\n",
    "                      'radoMINDmlk':   mind_mlk_pw,\n",
    "                      'radoMINDmli':   mind_mli_pw,\n",
    "\n",
    "                     }\n",
    "                      \n",
    "        self.times = {}\n",
    "        for key, val in self.funcs.items():\n",
    "            if key in ['MLE','ANOVA','FastDANCo','FisherSglobpw']:\n",
    "                self.funcs[key] = np.array(val[0])\n",
    "                self.times[key] = val[1]\n",
    "            elif 'rado' in key:\n",
    "                self.funcs[key] = np.array(val)\n",
    "            else:\n",
    "                self.funcs[key] = np.array([i[0] for i in val])\n",
    "                self.times[key] = np.sum([i[1] for i in val])\n",
    "            \n",
    "        return self.funcs, self.times\n",
    "    \n",
    "    \n",
    "    @staticmethod\n",
    "    def rado_ests(data,k):\n",
    "        return radovanovic_estimators_matlab(data,k=k)\n",
    "    \n",
    "    @staticmethod\n",
    "    @calculate_time\n",
    "    def mle(data):\n",
    "        return intdimr.maxLikGlobalDimEst(data,k=20).rx2('dim.est')[0]\n",
    "    \n",
    "    @staticmethod\n",
    "    @calculate_time\n",
    "    def mlelocal(data,k):\n",
    "        res = intdimr.maxLikPointwiseDimEst(data,k=k)\n",
    "        return np.array([i[0] for i in res])\n",
    "\n",
    "    @staticmethod\n",
    "    @calculate_time\n",
    "    def geomle(data, dim):\n",
    "#         k1 =  k1_log(dim)\n",
    "#         k2 =  k2_log(dim)\n",
    "        return geomle(pd.DataFrame(data), k1=20, k2=55, nb_iter1=1, alpha=5e-3).mean()\n",
    "\n",
    "    @staticmethod\n",
    "    @calculate_time\n",
    "    def geomlelocal(data, dim):\n",
    "#         k1 =  k1_log(dim)\n",
    "#         k2 =  k2_log(dim)\n",
    "        return geomle(pd.DataFrame(data), k1=20, k2=55, nb_iter1=1, alpha=5e-3)\n",
    "    \n",
    "    @staticmethod\n",
    "    @calculate_time\n",
    "    def mind_mlk(data, dim):\n",
    "        return intdimr.dancoDimEst(data, k=10, D=min(dim,100), ver=\"MIND_MLk\").rx2('dim.est')[0]\n",
    "    \n",
    "\n",
    "    @staticmethod\n",
    "    @calculate_time\n",
    "    def mind_mli(data, dim):\n",
    "        return intdimr.dancoDimEst(data, k=10, D=min(dim,100), ver=\"MIND_MLi\").rx2('dim.est')[0]\n",
    "    \n",
    "    #@staticmethod\n",
    "    @calculate_time\n",
    "    def danco(self,data, dim):\n",
    "        try:\n",
    "            res = intdimr.dancoDimEst(data, k=10, D=min(dim,100), calibration_data = self.caldatas[len(data)], ver=\"DANCo\")\n",
    "            self.caldatas[len(data)]=res[2]\n",
    "            return res.rx2('dim.est')[0]\n",
    "        except:\n",
    "            res = intdimr.dancoDimEst(data, k=10, D=min(dim,100), ver=\"DANCo\")\n",
    "            self.caldatas[len(data)]=res[2]\n",
    "            return res.rx2('dim.est')[0]\n",
    "\n",
    "    @staticmethod\n",
    "    @calculate_time\n",
    "    def fast_danco(data):\n",
    "        return runDANCo(data)[0]\n",
    "    \n",
    "    @staticmethod\n",
    "    @calculate_time\n",
    "    def fast_dancoloop(data):\n",
    "        return runDANColoop(data)\n",
    "    \n",
    "    @staticmethod\n",
    "    @calculate_time\n",
    "    def ess(data):\n",
    "        return ess_py(data)[0]\n",
    "    \n",
    "    @staticmethod\n",
    "    @calculate_time\n",
    "    def pca(data):\n",
    "        return intdimr.pcaLocalDimEst(data, 'FO', alphaFO = .1).rx2('dim.est')[0]\n",
    "    \n",
    "    @staticmethod\n",
    "    @calculate_time\n",
    "    def cd(data):\n",
    "        return corint_py(data, k1=10, k2=20)[0]\n",
    "    \n",
    "    @staticmethod\n",
    "    @calculate_time\n",
    "    def lcd(data):\n",
    "        return corint_py(data, k1=10, k2=len(data)-1)[0]\n",
    "    \n",
    "    @staticmethod\n",
    "    @calculate_time\n",
    "    def fisherS(data,ConditionalNumber,global_pw=False):\n",
    "        if global_pw:\n",
    "            n_alpha,n_single,p_alpha,alphas,separable_fraction,Xp = SeparabilityAnalysis(data,ProducePlots=0,alphas=np.arange(.2,1,.02)[None],ConditionalNumber=ConditionalNumber)\n",
    "            n_pointwise, idx = point_inseparability_to_pointID(n_alpha,n_single,p_alpha,alphas,idx='selected',force_definite_dim=False,verbose=False)\n",
    "            return n_pointwise\n",
    "        else:\n",
    "            return SeparabilityAnalysis(data,ProducePlots=0,alphas=np.arange(.2,1,.02)[None],ConditionalNumber=ConditionalNumber)[1][0]\n",
    "    \n",
    "    @staticmethod\n",
    "    @calculate_time\n",
    "    def anova(data):\n",
    "        return runANOVAglobal(data)[0,0]\n",
    "    \n",
    "    @staticmethod\n",
    "    @calculate_time\n",
    "    def anovalocal(data,k):\n",
    "        return runANOVAlocal(data,k=k)[:,0]\n",
    "    \n",
    "    @staticmethod\n",
    "    @calculate_time\n",
    "    def twonn(data):\n",
    "        res = twonn_py(data)\n",
    "        return res    "
   ]
  },
  {
   "cell_type": "markdown",
   "metadata": {},
   "source": [
    "# Real data (each dataset is loaded and subsampled to max(cardinality,5000)"
   ]
  },
  {
   "cell_type": "code",
   "execution_count": 3,
   "metadata": {},
   "outputs": [],
   "source": [
    "DE=DimEst()"
   ]
  },
  {
   "cell_type": "markdown",
   "metadata": {},
   "source": [
    "#### Datasets from Tight locality estimation paper"
   ]
  },
  {
   "cell_type": "code",
   "execution_count": null,
   "metadata": {},
   "outputs": [],
   "source": [
    "data_files = list(filter(lambda x: '.data' in x and 'mnist' not in x, os.listdir('../data/id-tle-real-data/data/real/')))\n",
    "real_data = [np.array(pd.read_csv('../data/id-tle-real-data/data/real/'+file,sep=' ',header=None)) for file in data_files]\n",
    "real_data = dict(zip(data_files,real_data))"
   ]
  },
  {
   "cell_type": "code",
   "execution_count": null,
   "metadata": {},
   "outputs": [],
   "source": [
    "# gisette: handwritten digits (4 and 9) 2 classes\n",
    "# msd: songs by various (mostly western) singers spanning several decades 90 classes\n",
    "# aloi: Amsterdam Library of Object Images 1000 classes\n",
    "# covertype: forest cover type (features: wilderness area, soil types) 7 classes\n",
    "# isolet: 150 subjects spoke the name of each letter of the alphabet twice 26 classes\n",
    "# ann_sift1b: 3·10^7 classes\n",
    "# bci5: 3 classes"
   ]
  },
  {
   "cell_type": "code",
   "execution_count": 5,
   "metadata": {},
   "outputs": [
    {
     "name": "stdout",
     "output_type": "stream",
     "text": [
      "Real datasets used in Intrinsic Dimensionality Estimation within Tight Localities:\n",
      "\n",
      "gisette.data\t(7000, 5000)\n",
      "msd.data\t(515345, 90)\n",
      "ann_sift1b.data\t(1000000, 128)\n",
      "aloi.data\t(110250, 641)\n",
      "covertype.data\t(581012, 56)\n",
      "isolet.data\t(7797, 617)\n",
      "bci5.data\t(31216, 96)\n"
     ]
    }
   ],
   "source": [
    "print('Real datasets used in Intrinsic Dimensionality Estimation within Tight Localities:\\n')\n",
    "for key,_data in real_data.items():\n",
    "    print(key+'\\t'+str(_data.shape))"
   ]
  },
  {
   "cell_type": "markdown",
   "metadata": {},
   "source": [
    "#### MNIST variants and isomapFaces"
   ]
  },
  {
   "cell_type": "code",
   "execution_count": 6,
   "metadata": {},
   "outputs": [
    {
     "data": {
      "text/plain": [
       "<matplotlib.image.AxesImage at 0x7fe087c97490>"
      ]
     },
     "execution_count": 6,
     "metadata": {},
     "output_type": "execute_result"
    },
    {
     "data": {
      "image/png": "[encoded data removed]",
      "text/plain": [
       "<Figure size 432x288 with 1 Axes>"
      ]
     },
     "metadata": {
      "needs_background": "light"
     },
     "output_type": "display_data"
    }
   ],
   "source": [
    "letters, emnist_labels = emnist_api.extract_training_samples('letters')\n",
    "emnist = letters.reshape((len(letters),-1))\n",
    "plt.imshow(letters[0])"
   ]
  },
  {
   "cell_type": "code",
   "execution_count": 7,
   "metadata": {},
   "outputs": [
    {
     "data": {
      "text/plain": [
       "<matplotlib.image.AxesImage at 0x7fe08977c310>"
      ]
     },
     "execution_count": 7,
     "metadata": {},
     "output_type": "execute_result"
    },
    {
     "data": {
      "image/png": "[encoded data removed]",
      "text/plain": [
       "<Figure size 432x288 with 1 Axes>"
      ]
     },
     "metadata": {
      "needs_background": "light"
     },
     "output_type": "display_data"
    }
   ],
   "source": [
    "fashion_mnist=fetch_openml(name=\"Fashion-MNIST\",data_home=\"../data\")\n",
    "fmnist = fashion_mnist['data']\n",
    "fmnist_labels = fashion_mnist['target']\n",
    "plt.imshow(fmnist[0].reshape(28,28))"
   ]
  },
  {
   "cell_type": "code",
   "execution_count": 22,
   "metadata": {},
   "outputs": [
    {
     "data": {
      "text/plain": [
       "<matplotlib.image.AxesImage at 0x7f74bfd10810>"
      ]
     },
     "execution_count": 22,
     "metadata": {},
     "output_type": "execute_result"
    },
    {
     "data": {
      "image/png": "[encoded data removed]",
      "text/plain": [
       "<Figure size 432x288 with 1 Axes>"
      ]
     },
     "metadata": {
      "needs_background": "light"
     },
     "output_type": "display_data"
    }
   ],
   "source": [
    "isomapFaces = scipy.io.loadmat('../data/face_data.mat')['images'].T\n",
    "plt.imshow(isomapFaces[0].reshape((64,64)))"
   ]
  },
  {
   "cell_type": "code",
   "execution_count": 9,
   "metadata": {},
   "outputs": [
    {
     "data": {
      "text/plain": [
       "<matplotlib.image.AxesImage at 0x7fe08913ecd0>"
      ]
     },
     "execution_count": 9,
     "metadata": {},
     "output_type": "execute_result"
    },
    {
     "data": {
      "image/png": "[encoded data removed]",
      "text/plain": [
       "<Figure size 432x288 with 1 Axes>"
      ]
     },
     "metadata": {
      "needs_background": "light"
     },
     "output_type": "display_data"
    }
   ],
   "source": [
    "train_images, test_images = mnist_api.train_images(), mnist_api.test_images()\n",
    "train_labels, test_labels = mnist_api.train_labels(), mnist_api.test_labels()\n",
    "\n",
    "mnist = np.concatenate((train_images,test_images))\n",
    "mnist = mnist.reshape((mnist.shape[0],-1))\n",
    "mnist_labels = np.concatenate((train_labels,test_labels))\n",
    "\n",
    "plt.imshow(train_images[0])"
   ]
  },
  {
   "cell_type": "code",
   "execution_count": null,
   "metadata": {},
   "outputs": [],
   "source": [
    "# add datasets to the common dict\n",
    "real_data['MNIST']=mnist\n",
    "real_data['EMNIST']=emnist\n",
    "real_data['FMNIST']=fmnist\n",
    "real_data['isomapFaces']=isomapFaces"
   ]
  },
  {
   "cell_type": "markdown",
   "metadata": {},
   "source": [
    "## Generate subsampled datasets"
   ]
  },
  {
   "cell_type": "code",
   "execution_count": null,
   "metadata": {},
   "outputs": [],
   "source": [
    "subsample_size = 5000\n",
    "\n",
    "real_data_subsampled = {}\n",
    "real_data_subsampled_idx = {}\n",
    "\n",
    "\n",
    "for key,_data in real_data.items():\n",
    "    dataset_name = key\n",
    "    full_n_samples = _data.shape[0]\n",
    "    \n",
    "    \n",
    "    if full_n_samples > subsample_size:\n",
    "        #define reproducible subsample index\n",
    "        np.random.seed(0);subsample = np.random.choice(full_n_samples,replace=False, size=subsample_size)\n",
    "        \n",
    "        real_data_subsampled[key] = _data[subsample]\n",
    "        real_data_subsampled_idx[key] = subsample\n",
    "    else:\n",
    "        real_data_subsampled[key] = _data\n",
    "        real_data_subsampled_idx[key] = None\n",
    "        \n",
    "        \n",
    "with open('../data/real_data_subsampled.pkl','wb') as f:\n",
    "    pickle.dump(real_data_subsampled,f)\n",
    "with open('../data/real_data_subsampled_idx.pkl','wb') as f:\n",
    "    pickle.dump(real_data_subsampled_idx,f)"
   ]
  },
  {
   "cell_type": "markdown",
   "metadata": {},
   "source": [
    "# Load subsampled datasets, run "
   ]
  },
  {
   "cell_type": "code",
   "execution_count": 4,
   "metadata": {},
   "outputs": [
    {
     "name": "stdout",
     "output_type": "stream",
     "text": [
      "gisette.data (5000, 5000)\n",
      "msd.data (5000, 90)\n",
      "ann_sift1b.data (5000, 128)\n",
      "aloi.data (5000, 641)\n",
      "covertype.data (5000, 56)\n",
      "isolet.data (5000, 617)\n",
      "bci5.data (5000, 96)\n",
      "MNIST (5000, 784)\n",
      "EMNIST (5000, 784)\n",
      "FMNIST (5000, 784)\n",
      "isomapFaces (698, 4096)\n"
     ]
    }
   ],
   "source": [
    "#load subsampled datasets\n",
    "with open('../data/real_data_subsampled.pkl','rb') as f:\n",
    "    real_data_subsampled = pickle.load(f)\n",
    "with open('../data/real_data_subsampled_idx.pkl','rb') as f:\n",
    "    real_data_subsampled_idx = pickle.load(f)\n",
    "    \n",
    "for k,v in real_data_subsampled.items():\n",
    "    print(k,v.shape)"
   ]
  },
  {
   "cell_type": "code",
   "execution_count": 5,
   "metadata": {},
   "outputs": [],
   "source": [
    "# remove gisette dataset (fisherS produces errors: all points are separable for localID)\n",
    "del real_data_subsampled['gisette.data']"
   ]
  },
  {
   "cell_type": "markdown",
   "metadata": {},
   "source": [
    "### Global ID saturation analysis"
   ]
  },
  {
   "cell_type": "code",
   "execution_count": 6,
   "metadata": {
    "collapsed": true,
    "jupyter": {
     "outputs_hidden": true
    }
   },
   "outputs": [
    {
     "name": "stdout",
     "output_type": "stream",
     "text": [
      "\n",
      " msd.data\n",
      "Running subsampling analysis...\n",
      "Subsample percentages = [1, 2, 4, 8, 10, 20, 40, 60, 80]\n",
      "Number of repeats = 10\n",
      "Number of samples = 5000\n",
      "Dimension = 90\n",
      "----------------------------\n",
      "\n",
      "Random seed set to 0 before running the test\n",
      "Sample size = 50\n",
      "Elapsed time = 68.62852001190186\n",
      "Sample size = 100\n"
     ]
    },
    {
     "ename": "KeyboardInterrupt",
     "evalue": "",
     "output_type": "error",
     "traceback": [
      "\u001b[0;31m---------------------------------------------------------------------------\u001b[0m",
      "\u001b[0;31mKeyboardInterrupt\u001b[0m                         Traceback (most recent call last)",
      "\u001b[0;32m<ipython-input-6-33ec9bb3f32a>\u001b[0m in \u001b[0;36m<module>\u001b[0;34m\u001b[0m\n\u001b[1;32m     37\u001b[0m \u001b[0;34m\u001b[0m\u001b[0m\n\u001b[1;32m     38\u001b[0m             \u001b[0;31m#Run estimators\u001b[0m\u001b[0;34m\u001b[0m\u001b[0;34m\u001b[0m\u001b[0;34m\u001b[0m\u001b[0m\n\u001b[0;32m---> 39\u001b[0;31m             \u001b[0mallres\u001b[0m \u001b[0;34m=\u001b[0m \u001b[0mDE\u001b[0m\u001b[0;34m.\u001b[0m\u001b[0mestimateAllMethods\u001b[0m\u001b[0;34m(\u001b[0m\u001b[0mxs\u001b[0m\u001b[0;34m)\u001b[0m\u001b[0;34m\u001b[0m\u001b[0;34m\u001b[0m\u001b[0m\n\u001b[0m\u001b[1;32m     40\u001b[0m             \u001b[0mresults\u001b[0m \u001b[0;34m=\u001b[0m \u001b[0mallres\u001b[0m\u001b[0;34m[\u001b[0m\u001b[0;36m0\u001b[0m\u001b[0;34m]\u001b[0m\u001b[0;34m\u001b[0m\u001b[0;34m\u001b[0m\u001b[0m\n\u001b[1;32m     41\u001b[0m             \u001b[0mruntimes\u001b[0m\u001b[0;34m.\u001b[0m\u001b[0mappend\u001b[0m\u001b[0;34m(\u001b[0m\u001b[0mallres\u001b[0m\u001b[0;34m[\u001b[0m\u001b[0;36m1\u001b[0m\u001b[0;34m]\u001b[0m\u001b[0;34m)\u001b[0m\u001b[0;34m\u001b[0m\u001b[0;34m\u001b[0m\u001b[0m\n",
      "\u001b[0;32m<ipython-input-2-6affbd1fad0b>\u001b[0m in \u001b[0;36mestimateAllMethods\u001b[0;34m(self, data, ConditionalNumber)\u001b[0m\n\u001b[1;32m     94\u001b[0m                       \u001b[0;31m#'CD':           self.cd(data),\u001b[0m\u001b[0;34m\u001b[0m\u001b[0;34m\u001b[0m\u001b[0;34m\u001b[0m\u001b[0m\n\u001b[1;32m     95\u001b[0m                       \u001b[0;34m'FisherS'\u001b[0m\u001b[0;34m:\u001b[0m      \u001b[0mself\u001b[0m\u001b[0;34m.\u001b[0m\u001b[0mfisherS\u001b[0m\u001b[0;34m(\u001b[0m\u001b[0mdata\u001b[0m\u001b[0;34m,\u001b[0m\u001b[0mConditionalNumber\u001b[0m\u001b[0;34m)\u001b[0m\u001b[0;34m,\u001b[0m\u001b[0;34m\u001b[0m\u001b[0;34m\u001b[0m\u001b[0m\n\u001b[0;32m---> 96\u001b[0;31m                       \u001b[0;34m'ANOVA'\u001b[0m\u001b[0;34m:\u001b[0m        \u001b[0mself\u001b[0m\u001b[0;34m.\u001b[0m\u001b[0manova\u001b[0m\u001b[0;34m(\u001b[0m\u001b[0mdata\u001b[0m\u001b[0;34m)\u001b[0m\u001b[0;34m,\u001b[0m\u001b[0;34m\u001b[0m\u001b[0;34m\u001b[0m\u001b[0m\n\u001b[0m\u001b[1;32m     97\u001b[0m                       \u001b[0;34m'TwoNN'\u001b[0m\u001b[0;34m:\u001b[0m        \u001b[0mself\u001b[0m\u001b[0;34m.\u001b[0m\u001b[0mtwonn\u001b[0m\u001b[0;34m(\u001b[0m\u001b[0mdata\u001b[0m\u001b[0;34m)\u001b[0m\u001b[0;34m\u001b[0m\u001b[0;34m\u001b[0m\u001b[0m\n\u001b[1;32m     98\u001b[0m                      }\n",
      "\u001b[0;32m<ipython-input-2-6affbd1fad0b>\u001b[0m in \u001b[0;36minner_func\u001b[0;34m(*args, **kwargs)\u001b[0m\n\u001b[1;32m     74\u001b[0m     \u001b[0;32mdef\u001b[0m \u001b[0minner_func\u001b[0m\u001b[0;34m(\u001b[0m\u001b[0;34m*\u001b[0m\u001b[0margs\u001b[0m\u001b[0;34m,\u001b[0m \u001b[0;34m**\u001b[0m\u001b[0mkwargs\u001b[0m\u001b[0;34m)\u001b[0m\u001b[0;34m:\u001b[0m\u001b[0;34m\u001b[0m\u001b[0;34m\u001b[0m\u001b[0m\n\u001b[1;32m     75\u001b[0m         \u001b[0mbegin\u001b[0m \u001b[0;34m=\u001b[0m \u001b[0mtime\u001b[0m\u001b[0;34m.\u001b[0m\u001b[0mtime\u001b[0m\u001b[0;34m(\u001b[0m\u001b[0;34m)\u001b[0m\u001b[0;34m\u001b[0m\u001b[0;34m\u001b[0m\u001b[0m\n\u001b[0;32m---> 76\u001b[0;31m         \u001b[0mres\u001b[0m \u001b[0;34m=\u001b[0m \u001b[0mfunc\u001b[0m\u001b[0;34m(\u001b[0m\u001b[0;34m*\u001b[0m\u001b[0margs\u001b[0m\u001b[0;34m,\u001b[0m \u001b[0;34m**\u001b[0m\u001b[0mkwargs\u001b[0m\u001b[0;34m)\u001b[0m\u001b[0;34m\u001b[0m\u001b[0;34m\u001b[0m\u001b[0m\n\u001b[0m\u001b[1;32m     77\u001b[0m         \u001b[0mend\u001b[0m \u001b[0;34m=\u001b[0m \u001b[0mtime\u001b[0m\u001b[0;34m.\u001b[0m\u001b[0mtime\u001b[0m\u001b[0;34m(\u001b[0m\u001b[0;34m)\u001b[0m\u001b[0;34m\u001b[0m\u001b[0;34m\u001b[0m\u001b[0m\n\u001b[1;32m     78\u001b[0m         \u001b[0;32mreturn\u001b[0m \u001b[0mres\u001b[0m\u001b[0;34m,\u001b[0m \u001b[0mend\u001b[0m \u001b[0;34m-\u001b[0m \u001b[0mbegin\u001b[0m\u001b[0;34m\u001b[0m\u001b[0;34m\u001b[0m\u001b[0m\n",
      "\u001b[0;32m<ipython-input-2-6affbd1fad0b>\u001b[0m in \u001b[0;36manova\u001b[0;34m(data)\u001b[0m\n\u001b[1;32m    241\u001b[0m     \u001b[0;34m@\u001b[0m\u001b[0mcalculate_time\u001b[0m\u001b[0;34m\u001b[0m\u001b[0;34m\u001b[0m\u001b[0m\n\u001b[1;32m    242\u001b[0m     \u001b[0;32mdef\u001b[0m \u001b[0manova\u001b[0m\u001b[0;34m(\u001b[0m\u001b[0mdata\u001b[0m\u001b[0;34m)\u001b[0m\u001b[0;34m:\u001b[0m\u001b[0;34m\u001b[0m\u001b[0;34m\u001b[0m\u001b[0m\n\u001b[0;32m--> 243\u001b[0;31m         \u001b[0;32mreturn\u001b[0m \u001b[0mrunANOVAglobal\u001b[0m\u001b[0;34m(\u001b[0m\u001b[0mdata\u001b[0m\u001b[0;34m)\u001b[0m\u001b[0;34m[\u001b[0m\u001b[0;36m0\u001b[0m\u001b[0;34m,\u001b[0m\u001b[0;36m0\u001b[0m\u001b[0;34m]\u001b[0m\u001b[0;34m\u001b[0m\u001b[0;34m\u001b[0m\u001b[0m\n\u001b[0m\u001b[1;32m    244\u001b[0m \u001b[0;34m\u001b[0m\u001b[0m\n\u001b[1;32m    245\u001b[0m     \u001b[0;34m@\u001b[0m\u001b[0mstaticmethod\u001b[0m\u001b[0;34m\u001b[0m\u001b[0;34m\u001b[0m\u001b[0m\n",
      "\u001b[0;32m~/id-concentration/estimators/_call_estimators.py\u001b[0m in \u001b[0;36mrunANOVAglobal\u001b[0;34m(data, k, path_to_estimators, path_to_matlab)\u001b[0m\n\u001b[1;32m     69\u001b[0m     \u001b[0mnp\u001b[0m\u001b[0;34m.\u001b[0m\u001b[0msavetxt\u001b[0m\u001b[0;34m(\u001b[0m\u001b[0mpath_to_estimators\u001b[0m\u001b[0;34m+\u001b[0m\u001b[0;34m'/temp_data.txt'\u001b[0m\u001b[0;34m,\u001b[0m\u001b[0mdata\u001b[0m\u001b[0;34m)\u001b[0m\u001b[0;34m\u001b[0m\u001b[0;34m\u001b[0m\u001b[0m\n\u001b[1;32m     70\u001b[0m     subprocess.call([path_to_matlab,\"-nodisplay\", \"-nosplash\", \"-nodesktop\",\"-nojvm\",\"-r\",\n\u001b[0;32m---> 71\u001b[0;31m                         \"data=dlmread('\"+path_to_estimators+\"/temp_data.txt');cd ('\"+path_to_estimators+\"');k=\"+str(k)+\";[d,dh]=ANOVA_global_estimator(data','k',k);save('variables.mat');exit\"\"\"])\n\u001b[0m\u001b[1;32m     72\u001b[0m \u001b[0;34m\u001b[0m\u001b[0m\n\u001b[1;32m     73\u001b[0m     \u001b[0;32mreturn\u001b[0m \u001b[0mscipy\u001b[0m\u001b[0;34m.\u001b[0m\u001b[0mio\u001b[0m\u001b[0;34m.\u001b[0m\u001b[0mloadmat\u001b[0m\u001b[0;34m(\u001b[0m\u001b[0mpath_to_estimators\u001b[0m\u001b[0;34m+\u001b[0m\u001b[0;34m'variables.mat'\u001b[0m\u001b[0;34m)\u001b[0m\u001b[0;34m[\u001b[0m\u001b[0;34m'dh'\u001b[0m\u001b[0;34m]\u001b[0m\u001b[0;34m\u001b[0m\u001b[0;34m\u001b[0m\u001b[0m\n",
      "\u001b[0;32m~/anaconda3/lib/python3.7/subprocess.py\u001b[0m in \u001b[0;36mcall\u001b[0;34m(timeout, *popenargs, **kwargs)\u001b[0m\n\u001b[1;32m    323\u001b[0m     \u001b[0;32mwith\u001b[0m \u001b[0mPopen\u001b[0m\u001b[0;34m(\u001b[0m\u001b[0;34m*\u001b[0m\u001b[0mpopenargs\u001b[0m\u001b[0;34m,\u001b[0m \u001b[0;34m**\u001b[0m\u001b[0mkwargs\u001b[0m\u001b[0;34m)\u001b[0m \u001b[0;32mas\u001b[0m \u001b[0mp\u001b[0m\u001b[0;34m:\u001b[0m\u001b[0;34m\u001b[0m\u001b[0;34m\u001b[0m\u001b[0m\n\u001b[1;32m    324\u001b[0m         \u001b[0;32mtry\u001b[0m\u001b[0;34m:\u001b[0m\u001b[0;34m\u001b[0m\u001b[0;34m\u001b[0m\u001b[0m\n\u001b[0;32m--> 325\u001b[0;31m             \u001b[0;32mreturn\u001b[0m \u001b[0mp\u001b[0m\u001b[0;34m.\u001b[0m\u001b[0mwait\u001b[0m\u001b[0;34m(\u001b[0m\u001b[0mtimeout\u001b[0m\u001b[0;34m=\u001b[0m\u001b[0mtimeout\u001b[0m\u001b[0;34m)\u001b[0m\u001b[0;34m\u001b[0m\u001b[0;34m\u001b[0m\u001b[0m\n\u001b[0m\u001b[1;32m    326\u001b[0m         \u001b[0;32mexcept\u001b[0m\u001b[0;34m:\u001b[0m  \u001b[0;31m# Including KeyboardInterrupt, wait handled that.\u001b[0m\u001b[0;34m\u001b[0m\u001b[0;34m\u001b[0m\u001b[0m\n\u001b[1;32m    327\u001b[0m             \u001b[0mp\u001b[0m\u001b[0;34m.\u001b[0m\u001b[0mkill\u001b[0m\u001b[0;34m(\u001b[0m\u001b[0;34m)\u001b[0m\u001b[0;34m\u001b[0m\u001b[0;34m\u001b[0m\u001b[0m\n",
      "\u001b[0;32m~/anaconda3/lib/python3.7/subprocess.py\u001b[0m in \u001b[0;36mwait\u001b[0;34m(self, timeout)\u001b[0m\n\u001b[1;32m    988\u001b[0m             \u001b[0mendtime\u001b[0m \u001b[0;34m=\u001b[0m \u001b[0m_time\u001b[0m\u001b[0;34m(\u001b[0m\u001b[0;34m)\u001b[0m \u001b[0;34m+\u001b[0m \u001b[0mtimeout\u001b[0m\u001b[0;34m\u001b[0m\u001b[0;34m\u001b[0m\u001b[0m\n\u001b[1;32m    989\u001b[0m         \u001b[0;32mtry\u001b[0m\u001b[0;34m:\u001b[0m\u001b[0;34m\u001b[0m\u001b[0;34m\u001b[0m\u001b[0m\n\u001b[0;32m--> 990\u001b[0;31m             \u001b[0;32mreturn\u001b[0m \u001b[0mself\u001b[0m\u001b[0;34m.\u001b[0m\u001b[0m_wait\u001b[0m\u001b[0;34m(\u001b[0m\u001b[0mtimeout\u001b[0m\u001b[0;34m=\u001b[0m\u001b[0mtimeout\u001b[0m\u001b[0;34m)\u001b[0m\u001b[0;34m\u001b[0m\u001b[0;34m\u001b[0m\u001b[0m\n\u001b[0m\u001b[1;32m    991\u001b[0m         \u001b[0;32mexcept\u001b[0m \u001b[0mKeyboardInterrupt\u001b[0m\u001b[0;34m:\u001b[0m\u001b[0;34m\u001b[0m\u001b[0;34m\u001b[0m\u001b[0m\n\u001b[1;32m    992\u001b[0m             \u001b[0;31m# https://bugs.python.org/issue25942\u001b[0m\u001b[0;34m\u001b[0m\u001b[0;34m\u001b[0m\u001b[0;34m\u001b[0m\u001b[0m\n",
      "\u001b[0;32m~/anaconda3/lib/python3.7/subprocess.py\u001b[0m in \u001b[0;36m_wait\u001b[0;34m(self, timeout)\u001b[0m\n\u001b[1;32m   1622\u001b[0m                         \u001b[0;32mif\u001b[0m \u001b[0mself\u001b[0m\u001b[0;34m.\u001b[0m\u001b[0mreturncode\u001b[0m \u001b[0;32mis\u001b[0m \u001b[0;32mnot\u001b[0m \u001b[0;32mNone\u001b[0m\u001b[0;34m:\u001b[0m\u001b[0;34m\u001b[0m\u001b[0;34m\u001b[0m\u001b[0m\n\u001b[1;32m   1623\u001b[0m                             \u001b[0;32mbreak\u001b[0m  \u001b[0;31m# Another thread waited.\u001b[0m\u001b[0;34m\u001b[0m\u001b[0;34m\u001b[0m\u001b[0m\n\u001b[0;32m-> 1624\u001b[0;31m                         \u001b[0;34m(\u001b[0m\u001b[0mpid\u001b[0m\u001b[0;34m,\u001b[0m \u001b[0msts\u001b[0m\u001b[0;34m)\u001b[0m \u001b[0;34m=\u001b[0m \u001b[0mself\u001b[0m\u001b[0;34m.\u001b[0m\u001b[0m_try_wait\u001b[0m\u001b[0;34m(\u001b[0m\u001b[0;36m0\u001b[0m\u001b[0;34m)\u001b[0m\u001b[0;34m\u001b[0m\u001b[0;34m\u001b[0m\u001b[0m\n\u001b[0m\u001b[1;32m   1625\u001b[0m                         \u001b[0;31m# Check the pid and loop as waitpid has been known to\u001b[0m\u001b[0;34m\u001b[0m\u001b[0;34m\u001b[0m\u001b[0;34m\u001b[0m\u001b[0m\n\u001b[1;32m   1626\u001b[0m                         \u001b[0;31m# return 0 even without WNOHANG in odd situations.\u001b[0m\u001b[0;34m\u001b[0m\u001b[0;34m\u001b[0m\u001b[0;34m\u001b[0m\u001b[0m\n",
      "\u001b[0;32m~/anaconda3/lib/python3.7/subprocess.py\u001b[0m in \u001b[0;36m_try_wait\u001b[0;34m(self, wait_flags)\u001b[0m\n\u001b[1;32m   1580\u001b[0m             \u001b[0;34m\"\"\"All callers to this function MUST hold self._waitpid_lock.\"\"\"\u001b[0m\u001b[0;34m\u001b[0m\u001b[0;34m\u001b[0m\u001b[0m\n\u001b[1;32m   1581\u001b[0m             \u001b[0;32mtry\u001b[0m\u001b[0;34m:\u001b[0m\u001b[0;34m\u001b[0m\u001b[0;34m\u001b[0m\u001b[0m\n\u001b[0;32m-> 1582\u001b[0;31m                 \u001b[0;34m(\u001b[0m\u001b[0mpid\u001b[0m\u001b[0;34m,\u001b[0m \u001b[0msts\u001b[0m\u001b[0;34m)\u001b[0m \u001b[0;34m=\u001b[0m \u001b[0mos\u001b[0m\u001b[0;34m.\u001b[0m\u001b[0mwaitpid\u001b[0m\u001b[0;34m(\u001b[0m\u001b[0mself\u001b[0m\u001b[0;34m.\u001b[0m\u001b[0mpid\u001b[0m\u001b[0;34m,\u001b[0m \u001b[0mwait_flags\u001b[0m\u001b[0;34m)\u001b[0m\u001b[0;34m\u001b[0m\u001b[0;34m\u001b[0m\u001b[0m\n\u001b[0m\u001b[1;32m   1583\u001b[0m             \u001b[0;32mexcept\u001b[0m \u001b[0mChildProcessError\u001b[0m\u001b[0;34m:\u001b[0m\u001b[0;34m\u001b[0m\u001b[0;34m\u001b[0m\u001b[0m\n\u001b[1;32m   1584\u001b[0m                 \u001b[0;31m# This happens if SIGCLD is set to be ignored or waiting\u001b[0m\u001b[0;34m\u001b[0m\u001b[0;34m\u001b[0m\u001b[0;34m\u001b[0m\u001b[0m\n",
      "\u001b[0;31mKeyboardInterrupt\u001b[0m: "
     ]
    }
   ],
   "source": [
    "# testing separability saturation\n",
    "n_repeats = 10\n",
    "n_methods = 6\n",
    "all_sample_sizes = [1,2,4,8,10,20,40,60,80]\n",
    "\n",
    "#for key,data in real_data_subsampled.items():\n",
    "for key,data in real_data_subsampled.items():\n",
    "    \n",
    "    datasets_done = [i.split('_')[0] for i in list(filter(lambda x: '.data' in x, os.listdir('../results')))]\n",
    "    dataset_name = key\n",
    "    n_samples = data.shape[0]\n",
    "    \n",
    "    if dataset_name in datasets_done:\n",
    "        print('already computed ', dataset_name)\n",
    "        continue\n",
    "    \n",
    "    print('\\n',dataset_name)\n",
    "    print('Running subsampling analysis...\\nSubsample percentages = {}\\nNumber of repeats = {}\\nNumber of samples = {}\\nDimension = {}'.format(all_sample_sizes,n_repeats,n_samples,data.shape[1]))\n",
    "    print('----------------------------\\n')\n",
    "    seed = 0; np.random.seed(seed)\n",
    "    print(f'Random seed set to {seed} before running the test')\n",
    "    \n",
    "    all_dim_estimates = np.zeros([n_methods,len(all_sample_sizes)+1,n_repeats])\n",
    "\n",
    "    runtimes = []\n",
    "    for i,sz in enumerate(all_sample_sizes):\n",
    "        if dataset_name == 'isomapFaces' and sz < 8:\n",
    "            print(f'subsample {sz} is too small for isomapFaces dataset. continue')\n",
    "            continue\n",
    "\n",
    "        sample_size = int(n_samples*sz/100)\n",
    "        print('Sample size = {}'.format(sample_size))\n",
    "        start_time = time.time()\n",
    "        for j in range(0,n_repeats):\n",
    "            sample = np.random.choice(n_samples,replace=False, size=sample_size)\n",
    "            xs = data[sample,:]\n",
    "\n",
    "            #Run estimators\n",
    "            allres = DE.estimateAllMethods(xs)\n",
    "            results = allres[0]\n",
    "            runtimes.append(allres[1])\n",
    "\n",
    "            #Store\n",
    "            for it,key in enumerate(results.keys()):\n",
    "                all_dim_estimates[it,i,j] =  results[key]\n",
    "\n",
    "\n",
    "        print(\"Elapsed time = {}\".format(time.time()-start_time))\n",
    "\n",
    "    allres = DE.estimateAllMethods(data)\n",
    "    results = allres[0]\n",
    "    runtimes.append(allres[1])\n",
    "\n",
    "    for i in range(0,n_repeats):\n",
    "        for it,key in enumerate(results.keys()):\n",
    "            all_dim_estimates[it,len(all_sample_sizes),i] =  results[key]\n",
    "\n",
    "    with open(\"../results/\"+dataset_name+\"_all_dim_estimates.npy\",'wb') as f:\n",
    "        pickle.dump(all_dim_estimates,f)\n",
    "        \n",
    "all_sample_sizes.append(100)\n",
    "np.savetxt(\"../results/all_sample_sizes.txt\", all_sample_sizes, delimiter=\"\\t\")\n",
    "with open(\"../results/all_dim_estimates_keys.npy\",'wb') as f:\n",
    "        pickle.dump(list(results.keys()),f)"
   ]
  },
  {
   "cell_type": "code",
   "execution_count": 29,
   "metadata": {},
   "outputs": [
    {
     "data": {
      "image/png": "[encoded data removed]",
      "text/plain": [
       "<Figure size 720x216 with 1 Axes>"
      ]
     },
     "metadata": {
      "needs_background": "light"
     },
     "output_type": "display_data"
    },
    {
     "data": {
      "image/png": "[encoded data removed]",
      "text/plain": [
       "<Figure size 720x216 with 1 Axes>"
      ]
     },
     "metadata": {
      "needs_background": "light"
     },
     "output_type": "display_data"
    },
    {
     "data": {
      "image/png": "[encoded data removed]",
      "text/plain": [
       "<Figure size 720x216 with 1 Axes>"
      ]
     },
     "metadata": {
      "needs_background": "light"
     },
     "output_type": "display_data"
    },
    {
     "data": {
      "image/png": "[encoded data removed]",
      "text/plain": [
       "<Figure size 720x216 with 1 Axes>"
      ]
     },
     "metadata": {
      "needs_background": "light"
     },
     "output_type": "display_data"
    },
    {
     "data": {
      "image/png": "[encoded data removed]",
      "text/plain": [
       "<Figure size 720x216 with 1 Axes>"
      ]
     },
     "metadata": {
      "needs_background": "light"
     },
     "output_type": "display_data"
    },
    {
     "data": {
      "image/png": "[encoded data removed]",
      "text/plain": [
       "<Figure size 720x216 with 1 Axes>"
      ]
     },
     "metadata": {
      "needs_background": "light"
     },
     "output_type": "display_data"
    }
   ],
   "source": [
    "# plot convergence curve\n",
    "alls=pd.read_csv('../results/all_sample_sizes.txt', sep='\\t',header=None)\n",
    "all_sample_sizes = alls.to_numpy()[:,0]\n",
    "\n",
    "with open(\"../results/\"+dataset_name+\"_all_dim_estimates.npy\",'rb') as f:\n",
    "    all_dim_estimates = pickle.load(f)\n",
    "    \n",
    "with open(\"../results/all_dim_estimates_keys.npy\",'rb') as f:\n",
    "    estimators = pickle.load(f)\n",
    "\n",
    "for i,estimator in enumerate(estimators):\n",
    "    dim_estimates = all_dim_estimates[i]\n",
    "    \n",
    "    mn = np.mean(dim_estimates[:,:],1)\n",
    "    std = np.std(dim_estimates[:,:],1)\n",
    "\n",
    "    plt.figure(figsize=(10,3))\n",
    "    plt.subplot(121)\n",
    "    plt.title(estimator)\n",
    "    plt.plot(all_sample_sizes,mn,'bs-')\n",
    "    plt.plot(all_sample_sizes,mn-std,'r--')\n",
    "    plt.plot(all_sample_sizes,mn+std,'r--')\n",
    "    plt.plot(all_sample_sizes,dim_estimates,'b+')\n",
    "    plt.xlabel('Percentage of points')\n",
    "    plt.ylabel('Estimated intrinsic dimension')"
   ]
  },
  {
   "cell_type": "markdown",
   "metadata": {},
   "source": [
    "### Local estimates convergence"
   ]
  },
  {
   "cell_type": "code",
   "execution_count": 7,
   "metadata": {},
   "outputs": [
    {
     "name": "stdout",
     "output_type": "stream",
     "text": [
      "\n",
      " msd.data\n",
      "Running subsampling analysis...\n",
      "Subsample percentages = [1, 2, 4, 8, 10, 20, 40, 60, 80]\n",
      "Number of repeats = 10\n",
      "Number of samples = 5000\n",
      "Dimension = 90\n",
      "----------------------------\n",
      "\n",
      "kNN =  50\n",
      "Random seed set to 0 before running the test\n",
      "Sample size = 500\n",
      "Elapsed time = 379.82841753959656\n",
      "Sample size = 1000\n"
     ]
    },
    {
     "name": "stderr",
     "output_type": "stream",
     "text": [
      "Process ForkPoolWorker-170:\n",
      "Process ForkPoolWorker-171:\n",
      "Traceback (most recent call last):\n",
      "Process ForkPoolWorker-172:\n",
      "  File \"/home/utilisateur/anaconda3/lib/python3.7/multiprocessing/process.py\", line 297, in _bootstrap\n",
      "    self.run()\n",
      "Traceback (most recent call last):\n",
      "Traceback (most recent call last):\n",
      "  File \"/home/utilisateur/anaconda3/lib/python3.7/multiprocessing/process.py\", line 297, in _bootstrap\n",
      "    self.run()\n",
      "  File \"/home/utilisateur/anaconda3/lib/python3.7/multiprocessing/process.py\", line 297, in _bootstrap\n",
      "    self.run()\n",
      "Process ForkPoolWorker-169:\n",
      "  File \"/home/utilisateur/anaconda3/lib/python3.7/multiprocessing/process.py\", line 99, in run\n",
      "    self._target(*self._args, **self._kwargs)\n",
      "  File \"/home/utilisateur/anaconda3/lib/python3.7/multiprocessing/process.py\", line 99, in run\n",
      "    self._target(*self._args, **self._kwargs)\n",
      "  File \"/home/utilisateur/anaconda3/lib/python3.7/multiprocessing/process.py\", line 99, in run\n",
      "    self._target(*self._args, **self._kwargs)\n",
      "  File \"/home/utilisateur/anaconda3/lib/python3.7/multiprocessing/pool.py\", line 121, in worker\n",
      "    result = (True, func(*args, **kwds))\n",
      "Traceback (most recent call last):\n",
      "  File \"/home/utilisateur/anaconda3/lib/python3.7/multiprocessing/pool.py\", line 121, in worker\n",
      "    result = (True, func(*args, **kwds))\n",
      "  File \"/home/utilisateur/anaconda3/lib/python3.7/multiprocessing/pool.py\", line 44, in mapstar\n",
      "    return list(map(*args))\n",
      "  File \"/home/utilisateur/anaconda3/lib/python3.7/multiprocessing/pool.py\", line 121, in worker\n",
      "    result = (True, func(*args, **kwds))\n",
      "  File \"/home/utilisateur/anaconda3/lib/python3.7/multiprocessing/process.py\", line 297, in _bootstrap\n",
      "    self.run()\n",
      "  File \"<ipython-input-2-6affbd1fad0b>\", line 47, in proxy\n",
      "    return function(X,**Dict)\n",
      "  File \"/home/utilisateur/anaconda3/lib/python3.7/multiprocessing/pool.py\", line 44, in mapstar\n",
      "    return list(map(*args))\n",
      "  File \"/home/utilisateur/anaconda3/lib/python3.7/multiprocessing/process.py\", line 99, in run\n",
      "    self._target(*self._args, **self._kwargs)\n",
      "  File \"<ipython-input-2-6affbd1fad0b>\", line 47, in proxy\n",
      "    return function(X,**Dict)\n",
      "  File \"<ipython-input-2-6affbd1fad0b>\", line 76, in inner_func\n",
      "    res = func(*args, **kwargs)\n",
      "  File \"/home/utilisateur/anaconda3/lib/python3.7/multiprocessing/pool.py\", line 44, in mapstar\n",
      "    return list(map(*args))\n",
      "  File \"<ipython-input-2-6affbd1fad0b>\", line 238, in fisherS\n",
      "    return SeparabilityAnalysis(data,ProducePlots=0,alphas=np.arange(.2,1,.02)[None],ConditionalNumber=ConditionalNumber)[1][0]\n",
      "  File \"<ipython-input-2-6affbd1fad0b>\", line 47, in proxy\n",
      "    return function(X,**Dict)\n",
      "  File \"/home/utilisateur/anaconda3/lib/python3.7/multiprocessing/pool.py\", line 121, in worker\n",
      "    result = (True, func(*args, **kwds))\n",
      "  File \"/home/utilisateur/anaconda3/lib/python3.7/multiprocessing/pool.py\", line 44, in mapstar\n",
      "    return list(map(*args))\n",
      "  File \"<ipython-input-2-6affbd1fad0b>\", line 47, in proxy\n",
      "    return function(X,**Dict)\n",
      "  File \"<ipython-input-2-6affbd1fad0b>\", line 76, in inner_func\n",
      "    res = func(*args, **kwargs)\n",
      "  File \"/home/utilisateur/id-concentration/estimators/_FisherS.py\", line 380, in SeparabilityAnalysis\n",
      "    [n_alpha,n_single,alpha_single] = dimension_uniform_sphere(py_mean,alphas)\n",
      "  File \"<ipython-input-2-6affbd1fad0b>\", line 238, in fisherS\n",
      "    return SeparabilityAnalysis(data,ProducePlots=0,alphas=np.arange(.2,1,.02)[None],ConditionalNumber=ConditionalNumber)[1][0]\n",
      "  File \"<ipython-input-2-6affbd1fad0b>\", line 76, in inner_func\n",
      "    res = func(*args, **kwargs)\n",
      "  File \"<ipython-input-2-6affbd1fad0b>\", line 238, in fisherS\n",
      "    return SeparabilityAnalysis(data,ProducePlots=0,alphas=np.arange(.2,1,.02)[None],ConditionalNumber=ConditionalNumber)[1][0]\n",
      "  File \"<ipython-input-2-6affbd1fad0b>\", line 76, in inner_func\n",
      "    res = func(*args, **kwargs)\n",
      "  File \"<ipython-input-2-6affbd1fad0b>\", line 238, in fisherS\n",
      "    return SeparabilityAnalysis(data,ProducePlots=0,alphas=np.arange(.2,1,.02)[None],ConditionalNumber=ConditionalNumber)[1][0]\n",
      "  File \"/home/utilisateur/id-concentration/estimators/_FisherS.py\", line 375, in SeparabilityAnalysis\n",
      "    Xp = preprocessing(X,1,1,1,ProjectOnSphere,ConditionalNumber=ConditionalNumber,ncomp=ncomp)\n",
      "  File \"/home/utilisateur/id-concentration/estimators/_FisherS.py\", line 375, in SeparabilityAnalysis\n",
      "    Xp = preprocessing(X,1,1,1,ProjectOnSphere,ConditionalNumber=ConditionalNumber,ncomp=ncomp)\n",
      "  File \"/home/utilisateur/id-concentration/estimators/_FisherS.py\", line 64, in preprocessing\n",
      "    u = pca.fit_transform(X)\n",
      "  File \"/home/utilisateur/id-concentration/estimators/_FisherS.py\", line 221, in dimension_uniform_sphere\n",
      "    n[i] = np.real(lambertw(-(w/(2*np.pi*p*p*a2*(1-a2)))))/(-w)\n",
      "  File \"/home/utilisateur/id-concentration/estimators/_FisherS.py\", line 375, in SeparabilityAnalysis\n",
      "    Xp = preprocessing(X,1,1,1,ProjectOnSphere,ConditionalNumber=ConditionalNumber,ncomp=ncomp)\n",
      "  File \"/home/utilisateur/id-concentration/estimators/_FisherS.py\", line 64, in preprocessing\n",
      "    u = pca.fit_transform(X)\n",
      "  File \"/home/utilisateur/anaconda3/lib/python3.7/site-packages/sklearn/decomposition/pca.py\", line 360, in fit_transform\n",
      "    U, S, V = self._fit(X)\n",
      "KeyboardInterrupt\n",
      "  File \"/home/utilisateur/anaconda3/lib/python3.7/site-packages/sklearn/decomposition/pca.py\", line 360, in fit_transform\n",
      "    U, S, V = self._fit(X)\n",
      "  File \"/home/utilisateur/anaconda3/lib/python3.7/site-packages/sklearn/decomposition/pca.py\", line 407, in _fit\n",
      "    return self._fit_full(X, n_components)\n",
      "  File \"/home/utilisateur/anaconda3/lib/python3.7/site-packages/sklearn/decomposition/pca.py\", line 438, in _fit_full\n",
      "    U, S, V = linalg.svd(X, full_matrices=False)\n",
      "  File \"/home/utilisateur/.local/lib/python3.7/site-packages/scipy/linalg/decomp_svd.py\", line 129, in svd\n",
      "    full_matrices=full_matrices, overwrite_a=overwrite_a)\n",
      "KeyboardInterrupt\n",
      "  File \"/home/utilisateur/id-concentration/estimators/_FisherS.py\", line 64, in preprocessing\n",
      "    u = pca.fit_transform(X)\n",
      "  File \"/home/utilisateur/anaconda3/lib/python3.7/site-packages/sklearn/decomposition/pca.py\", line 407, in _fit\n",
      "    return self._fit_full(X, n_components)\n",
      "  File \"/home/utilisateur/anaconda3/lib/python3.7/site-packages/sklearn/decomposition/pca.py\", line 435, in _fit_full\n",
      "    self.mean_ = np.mean(X, axis=0)\n",
      "  File \"/home/utilisateur/anaconda3/lib/python3.7/site-packages/sklearn/decomposition/pca.py\", line 360, in fit_transform\n",
      "    U, S, V = self._fit(X)\n",
      "  File \"<__array_function__ internals>\", line 6, in mean\n",
      "  File \"/home/utilisateur/anaconda3/lib/python3.7/site-packages/sklearn/decomposition/pca.py\", line 407, in _fit\n",
      "    return self._fit_full(X, n_components)\n",
      "  File \"/home/utilisateur/anaconda3/lib/python3.7/site-packages/sklearn/decomposition/pca.py\", line 438, in _fit_full\n",
      "    U, S, V = linalg.svd(X, full_matrices=False)\n",
      "  File \"/home/utilisateur/.local/lib/python3.7/site-packages/scipy/linalg/decomp_svd.py\", line 129, in svd\n",
      "    full_matrices=full_matrices, overwrite_a=overwrite_a)\n",
      "  File \"/home/utilisateur/.local/lib/python3.7/site-packages/numpy/core/fromnumeric.py\", line 3257, in mean\n",
      "    out=out, **kwargs)\n",
      "  File \"/home/utilisateur/.local/lib/python3.7/site-packages/numpy/core/_methods.py\", line 154, in _mean\n",
      "    ret, rcount, out=ret, casting='unsafe', subok=False)\n",
      "KeyboardInterrupt\n",
      "KeyboardInterrupt\n"
     ]
    },
    {
     "ename": "KeyboardInterrupt",
     "evalue": "",
     "output_type": "error",
     "traceback": [
      "\u001b[0;31m---------------------------------------------------------------------------\u001b[0m",
      "\u001b[0;31mKeyboardInterrupt\u001b[0m                         Traceback (most recent call last)",
      "\u001b[0;32m<ipython-input-7-e47c9cb89e6e>\u001b[0m in \u001b[0;36m<module>\u001b[0;34m\u001b[0m\n\u001b[1;32m     47\u001b[0m \u001b[0;34m\u001b[0m\u001b[0m\n\u001b[1;32m     48\u001b[0m                 \u001b[0;31m#Run estimators\u001b[0m\u001b[0;34m\u001b[0m\u001b[0;34m\u001b[0m\u001b[0;34m\u001b[0m\u001b[0m\n\u001b[0;32m---> 49\u001b[0;31m                 \u001b[0mallres\u001b[0m \u001b[0;34m=\u001b[0m \u001b[0mDE\u001b[0m\u001b[0;34m.\u001b[0m\u001b[0mestimateAllMethodsLocally\u001b[0m\u001b[0;34m(\u001b[0m\u001b[0mxs\u001b[0m\u001b[0;34m,\u001b[0m \u001b[0mk\u001b[0m \u001b[0;34m=\u001b[0m \u001b[0mn_neighbors\u001b[0m\u001b[0;34m,\u001b[0m \u001b[0mn_jobs\u001b[0m \u001b[0;34m=\u001b[0m \u001b[0mn_jobs\u001b[0m\u001b[0;34m,\u001b[0m \u001b[0mConditionalNumber\u001b[0m \u001b[0;34m=\u001b[0m \u001b[0;36m10\u001b[0m\u001b[0;34m)\u001b[0m\u001b[0;34m\u001b[0m\u001b[0;34m\u001b[0m\u001b[0m\n\u001b[0m\u001b[1;32m     50\u001b[0m \u001b[0;34m\u001b[0m\u001b[0m\n\u001b[1;32m     51\u001b[0m                 \u001b[0mresults\u001b[0m \u001b[0;34m=\u001b[0m \u001b[0mallres\u001b[0m\u001b[0;34m[\u001b[0m\u001b[0;36m0\u001b[0m\u001b[0;34m]\u001b[0m\u001b[0;34m\u001b[0m\u001b[0;34m\u001b[0m\u001b[0m\n",
      "\u001b[0;32m<ipython-input-2-6affbd1fad0b>\u001b[0m in \u001b[0;36mestimateAllMethodsLocally\u001b[0;34m(self, data, k, n_jobs, ConditionalNumber)\u001b[0m\n\u001b[1;32m    117\u001b[0m                       \u001b[0;34m'PCA'\u001b[0m\u001b[0;34m:\u001b[0m           \u001b[0masPointwise\u001b[0m\u001b[0;34m(\u001b[0m\u001b[0mdata\u001b[0m\u001b[0;34m,\u001b[0m\u001b[0mself\u001b[0m\u001b[0;34m.\u001b[0m\u001b[0mpca\u001b[0m\u001b[0;34m,\u001b[0m\u001b[0;34m{\u001b[0m\u001b[0;34m}\u001b[0m\u001b[0;34m,\u001b[0m\u001b[0mprecomputed_knn\u001b[0m\u001b[0;34m=\u001b[0m\u001b[0mknn\u001b[0m\u001b[0;34m,\u001b[0m\u001b[0mn_jobs\u001b[0m\u001b[0;34m=\u001b[0m\u001b[0;36m1\u001b[0m\u001b[0;34m)\u001b[0m\u001b[0;34m,\u001b[0m\u001b[0;34m\u001b[0m\u001b[0;34m\u001b[0m\u001b[0m\n\u001b[1;32m    118\u001b[0m                       \u001b[0;34m'CD'\u001b[0m\u001b[0;34m:\u001b[0m            \u001b[0masPointwise\u001b[0m\u001b[0;34m(\u001b[0m\u001b[0mdata\u001b[0m\u001b[0;34m,\u001b[0m\u001b[0mself\u001b[0m\u001b[0;34m.\u001b[0m\u001b[0mlcd\u001b[0m\u001b[0;34m,\u001b[0m\u001b[0;34m{\u001b[0m\u001b[0;34m}\u001b[0m\u001b[0;34m,\u001b[0m\u001b[0mprecomputed_knn\u001b[0m\u001b[0;34m=\u001b[0m\u001b[0mknn\u001b[0m\u001b[0;34m,\u001b[0m\u001b[0mn_jobs\u001b[0m\u001b[0;34m=\u001b[0m\u001b[0mn_jobs\u001b[0m\u001b[0;34m)\u001b[0m\u001b[0;34m,\u001b[0m\u001b[0;34m\u001b[0m\u001b[0;34m\u001b[0m\u001b[0m\n\u001b[0;32m--> 119\u001b[0;31m                       \u001b[0;34m'FisherS'\u001b[0m\u001b[0;34m:\u001b[0m       \u001b[0masPointwise\u001b[0m\u001b[0;34m(\u001b[0m\u001b[0mdata\u001b[0m\u001b[0;34m,\u001b[0m\u001b[0mself\u001b[0m\u001b[0;34m.\u001b[0m\u001b[0mfisherS\u001b[0m\u001b[0;34m,\u001b[0m\u001b[0;34m{\u001b[0m\u001b[0;34m'ConditionalNumber'\u001b[0m\u001b[0;34m:\u001b[0m\u001b[0mConditionalNumber\u001b[0m\u001b[0;34m}\u001b[0m\u001b[0;34m,\u001b[0m\u001b[0mprecomputed_knn\u001b[0m\u001b[0;34m=\u001b[0m\u001b[0mknn\u001b[0m\u001b[0;34m,\u001b[0m\u001b[0mn_jobs\u001b[0m\u001b[0;34m=\u001b[0m\u001b[0mn_jobs\u001b[0m\u001b[0;34m)\u001b[0m\u001b[0;34m,\u001b[0m\u001b[0;34m\u001b[0m\u001b[0;34m\u001b[0m\u001b[0m\n\u001b[0m\u001b[1;32m    120\u001b[0m                       \u001b[0;34m'FisherSglobpw'\u001b[0m\u001b[0;34m:\u001b[0m \u001b[0mself\u001b[0m\u001b[0;34m.\u001b[0m\u001b[0mfisherS\u001b[0m\u001b[0;34m(\u001b[0m\u001b[0mdata\u001b[0m\u001b[0;34m,\u001b[0m\u001b[0mConditionalNumber\u001b[0m\u001b[0;34m,\u001b[0m\u001b[0mglobal_pw\u001b[0m\u001b[0;34m=\u001b[0m\u001b[0;32mTrue\u001b[0m\u001b[0;34m)\u001b[0m\u001b[0;34m,\u001b[0m\u001b[0;34m\u001b[0m\u001b[0;34m\u001b[0m\u001b[0m\n\u001b[1;32m    121\u001b[0m                       \u001b[0;34m'ANOVA'\u001b[0m\u001b[0;34m:\u001b[0m         \u001b[0mself\u001b[0m\u001b[0;34m.\u001b[0m\u001b[0manovalocal\u001b[0m\u001b[0;34m(\u001b[0m\u001b[0mdata\u001b[0m\u001b[0;34m,\u001b[0m\u001b[0mk\u001b[0m\u001b[0;34m)\u001b[0m\u001b[0;34m,\u001b[0m\u001b[0;34m\u001b[0m\u001b[0;34m\u001b[0m\u001b[0m\n",
      "\u001b[0;32m<ipython-input-2-6affbd1fad0b>\u001b[0m in \u001b[0;36masPointwise\u001b[0;34m(data, function, params, precomputed_knn, n_neighbors, n_jobs)\u001b[0m\n\u001b[1;32m     62\u001b[0m     \u001b[0;32mif\u001b[0m \u001b[0mn_jobs\u001b[0m \u001b[0;34m>\u001b[0m \u001b[0;36m1\u001b[0m\u001b[0;34m:\u001b[0m\u001b[0;34m\u001b[0m\u001b[0;34m\u001b[0m\u001b[0m\n\u001b[1;32m     63\u001b[0m         \u001b[0mpool\u001b[0m \u001b[0;34m=\u001b[0m \u001b[0mmp\u001b[0m\u001b[0;34m.\u001b[0m\u001b[0mPool\u001b[0m\u001b[0;34m(\u001b[0m\u001b[0mn_jobs\u001b[0m\u001b[0;34m)\u001b[0m\u001b[0;34m\u001b[0m\u001b[0;34m\u001b[0m\u001b[0m\n\u001b[0;32m---> 64\u001b[0;31m         \u001b[0mresults\u001b[0m \u001b[0;34m=\u001b[0m \u001b[0mpool\u001b[0m\u001b[0;34m.\u001b[0m\u001b[0mmap\u001b[0m\u001b[0;34m(\u001b[0m\u001b[0mproxy\u001b[0m\u001b[0;34m,\u001b[0m\u001b[0;34m[\u001b[0m\u001b[0;34m(\u001b[0m\u001b[0mfunction\u001b[0m\u001b[0;34m,\u001b[0m\u001b[0mdata\u001b[0m\u001b[0;34m[\u001b[0m\u001b[0mi\u001b[0m\u001b[0;34m,\u001b[0m\u001b[0;34m:\u001b[0m\u001b[0;34m]\u001b[0m\u001b[0;34m,\u001b[0m\u001b[0mparams\u001b[0m\u001b[0;34m)\u001b[0m \u001b[0;32mfor\u001b[0m \u001b[0mi\u001b[0m \u001b[0;32min\u001b[0m \u001b[0mknn\u001b[0m\u001b[0;34m]\u001b[0m\u001b[0;34m)\u001b[0m\u001b[0;34m\u001b[0m\u001b[0;34m\u001b[0m\u001b[0m\n\u001b[0m\u001b[1;32m     65\u001b[0m         \u001b[0mpool\u001b[0m\u001b[0;34m.\u001b[0m\u001b[0mclose\u001b[0m\u001b[0;34m(\u001b[0m\u001b[0;34m)\u001b[0m\u001b[0;34m\u001b[0m\u001b[0;34m\u001b[0m\u001b[0m\n\u001b[1;32m     66\u001b[0m         \u001b[0;32mreturn\u001b[0m \u001b[0mresults\u001b[0m\u001b[0;34m\u001b[0m\u001b[0;34m\u001b[0m\u001b[0m\n",
      "\u001b[0;32m~/anaconda3/lib/python3.7/multiprocessing/pool.py\u001b[0m in \u001b[0;36mmap\u001b[0;34m(self, func, iterable, chunksize)\u001b[0m\n\u001b[1;32m    266\u001b[0m         \u001b[0;32min\u001b[0m \u001b[0ma\u001b[0m \u001b[0mlist\u001b[0m \u001b[0mthat\u001b[0m \u001b[0;32mis\u001b[0m \u001b[0mreturned\u001b[0m\u001b[0;34m.\u001b[0m\u001b[0;34m\u001b[0m\u001b[0;34m\u001b[0m\u001b[0m\n\u001b[1;32m    267\u001b[0m         '''\n\u001b[0;32m--> 268\u001b[0;31m         \u001b[0;32mreturn\u001b[0m \u001b[0mself\u001b[0m\u001b[0;34m.\u001b[0m\u001b[0m_map_async\u001b[0m\u001b[0;34m(\u001b[0m\u001b[0mfunc\u001b[0m\u001b[0;34m,\u001b[0m \u001b[0miterable\u001b[0m\u001b[0;34m,\u001b[0m \u001b[0mmapstar\u001b[0m\u001b[0;34m,\u001b[0m \u001b[0mchunksize\u001b[0m\u001b[0;34m)\u001b[0m\u001b[0;34m.\u001b[0m\u001b[0mget\u001b[0m\u001b[0;34m(\u001b[0m\u001b[0;34m)\u001b[0m\u001b[0;34m\u001b[0m\u001b[0;34m\u001b[0m\u001b[0m\n\u001b[0m\u001b[1;32m    269\u001b[0m \u001b[0;34m\u001b[0m\u001b[0m\n\u001b[1;32m    270\u001b[0m     \u001b[0;32mdef\u001b[0m \u001b[0mstarmap\u001b[0m\u001b[0;34m(\u001b[0m\u001b[0mself\u001b[0m\u001b[0;34m,\u001b[0m \u001b[0mfunc\u001b[0m\u001b[0;34m,\u001b[0m \u001b[0miterable\u001b[0m\u001b[0;34m,\u001b[0m \u001b[0mchunksize\u001b[0m\u001b[0;34m=\u001b[0m\u001b[0;32mNone\u001b[0m\u001b[0;34m)\u001b[0m\u001b[0;34m:\u001b[0m\u001b[0;34m\u001b[0m\u001b[0;34m\u001b[0m\u001b[0m\n",
      "\u001b[0;32m~/anaconda3/lib/python3.7/multiprocessing/pool.py\u001b[0m in \u001b[0;36mget\u001b[0;34m(self, timeout)\u001b[0m\n\u001b[1;32m    649\u001b[0m \u001b[0;34m\u001b[0m\u001b[0m\n\u001b[1;32m    650\u001b[0m     \u001b[0;32mdef\u001b[0m \u001b[0mget\u001b[0m\u001b[0;34m(\u001b[0m\u001b[0mself\u001b[0m\u001b[0;34m,\u001b[0m \u001b[0mtimeout\u001b[0m\u001b[0;34m=\u001b[0m\u001b[0;32mNone\u001b[0m\u001b[0;34m)\u001b[0m\u001b[0;34m:\u001b[0m\u001b[0;34m\u001b[0m\u001b[0;34m\u001b[0m\u001b[0m\n\u001b[0;32m--> 651\u001b[0;31m         \u001b[0mself\u001b[0m\u001b[0;34m.\u001b[0m\u001b[0mwait\u001b[0m\u001b[0;34m(\u001b[0m\u001b[0mtimeout\u001b[0m\u001b[0;34m)\u001b[0m\u001b[0;34m\u001b[0m\u001b[0;34m\u001b[0m\u001b[0m\n\u001b[0m\u001b[1;32m    652\u001b[0m         \u001b[0;32mif\u001b[0m \u001b[0;32mnot\u001b[0m \u001b[0mself\u001b[0m\u001b[0;34m.\u001b[0m\u001b[0mready\u001b[0m\u001b[0;34m(\u001b[0m\u001b[0;34m)\u001b[0m\u001b[0;34m:\u001b[0m\u001b[0;34m\u001b[0m\u001b[0;34m\u001b[0m\u001b[0m\n\u001b[1;32m    653\u001b[0m             \u001b[0;32mraise\u001b[0m \u001b[0mTimeoutError\u001b[0m\u001b[0;34m\u001b[0m\u001b[0;34m\u001b[0m\u001b[0m\n",
      "\u001b[0;32m~/anaconda3/lib/python3.7/multiprocessing/pool.py\u001b[0m in \u001b[0;36mwait\u001b[0;34m(self, timeout)\u001b[0m\n\u001b[1;32m    646\u001b[0m \u001b[0;34m\u001b[0m\u001b[0m\n\u001b[1;32m    647\u001b[0m     \u001b[0;32mdef\u001b[0m \u001b[0mwait\u001b[0m\u001b[0;34m(\u001b[0m\u001b[0mself\u001b[0m\u001b[0;34m,\u001b[0m \u001b[0mtimeout\u001b[0m\u001b[0;34m=\u001b[0m\u001b[0;32mNone\u001b[0m\u001b[0;34m)\u001b[0m\u001b[0;34m:\u001b[0m\u001b[0;34m\u001b[0m\u001b[0;34m\u001b[0m\u001b[0m\n\u001b[0;32m--> 648\u001b[0;31m         \u001b[0mself\u001b[0m\u001b[0;34m.\u001b[0m\u001b[0m_event\u001b[0m\u001b[0;34m.\u001b[0m\u001b[0mwait\u001b[0m\u001b[0;34m(\u001b[0m\u001b[0mtimeout\u001b[0m\u001b[0;34m)\u001b[0m\u001b[0;34m\u001b[0m\u001b[0;34m\u001b[0m\u001b[0m\n\u001b[0m\u001b[1;32m    649\u001b[0m \u001b[0;34m\u001b[0m\u001b[0m\n\u001b[1;32m    650\u001b[0m     \u001b[0;32mdef\u001b[0m \u001b[0mget\u001b[0m\u001b[0;34m(\u001b[0m\u001b[0mself\u001b[0m\u001b[0;34m,\u001b[0m \u001b[0mtimeout\u001b[0m\u001b[0;34m=\u001b[0m\u001b[0;32mNone\u001b[0m\u001b[0;34m)\u001b[0m\u001b[0;34m:\u001b[0m\u001b[0;34m\u001b[0m\u001b[0;34m\u001b[0m\u001b[0m\n",
      "\u001b[0;32m~/anaconda3/lib/python3.7/threading.py\u001b[0m in \u001b[0;36mwait\u001b[0;34m(self, timeout)\u001b[0m\n\u001b[1;32m    550\u001b[0m             \u001b[0msignaled\u001b[0m \u001b[0;34m=\u001b[0m \u001b[0mself\u001b[0m\u001b[0;34m.\u001b[0m\u001b[0m_flag\u001b[0m\u001b[0;34m\u001b[0m\u001b[0;34m\u001b[0m\u001b[0m\n\u001b[1;32m    551\u001b[0m             \u001b[0;32mif\u001b[0m \u001b[0;32mnot\u001b[0m \u001b[0msignaled\u001b[0m\u001b[0;34m:\u001b[0m\u001b[0;34m\u001b[0m\u001b[0;34m\u001b[0m\u001b[0m\n\u001b[0;32m--> 552\u001b[0;31m                 \u001b[0msignaled\u001b[0m \u001b[0;34m=\u001b[0m \u001b[0mself\u001b[0m\u001b[0;34m.\u001b[0m\u001b[0m_cond\u001b[0m\u001b[0;34m.\u001b[0m\u001b[0mwait\u001b[0m\u001b[0;34m(\u001b[0m\u001b[0mtimeout\u001b[0m\u001b[0;34m)\u001b[0m\u001b[0;34m\u001b[0m\u001b[0;34m\u001b[0m\u001b[0m\n\u001b[0m\u001b[1;32m    553\u001b[0m             \u001b[0;32mreturn\u001b[0m \u001b[0msignaled\u001b[0m\u001b[0;34m\u001b[0m\u001b[0;34m\u001b[0m\u001b[0m\n\u001b[1;32m    554\u001b[0m \u001b[0;34m\u001b[0m\u001b[0m\n",
      "\u001b[0;32m~/anaconda3/lib/python3.7/threading.py\u001b[0m in \u001b[0;36mwait\u001b[0;34m(self, timeout)\u001b[0m\n\u001b[1;32m    294\u001b[0m         \u001b[0;32mtry\u001b[0m\u001b[0;34m:\u001b[0m    \u001b[0;31m# restore state no matter what (e.g., KeyboardInterrupt)\u001b[0m\u001b[0;34m\u001b[0m\u001b[0;34m\u001b[0m\u001b[0m\n\u001b[1;32m    295\u001b[0m             \u001b[0;32mif\u001b[0m \u001b[0mtimeout\u001b[0m \u001b[0;32mis\u001b[0m \u001b[0;32mNone\u001b[0m\u001b[0;34m:\u001b[0m\u001b[0;34m\u001b[0m\u001b[0;34m\u001b[0m\u001b[0m\n\u001b[0;32m--> 296\u001b[0;31m                 \u001b[0mwaiter\u001b[0m\u001b[0;34m.\u001b[0m\u001b[0macquire\u001b[0m\u001b[0;34m(\u001b[0m\u001b[0;34m)\u001b[0m\u001b[0;34m\u001b[0m\u001b[0;34m\u001b[0m\u001b[0m\n\u001b[0m\u001b[1;32m    297\u001b[0m                 \u001b[0mgotit\u001b[0m \u001b[0;34m=\u001b[0m \u001b[0;32mTrue\u001b[0m\u001b[0;34m\u001b[0m\u001b[0;34m\u001b[0m\u001b[0m\n\u001b[1;32m    298\u001b[0m             \u001b[0;32melse\u001b[0m\u001b[0;34m:\u001b[0m\u001b[0;34m\u001b[0m\u001b[0;34m\u001b[0m\u001b[0m\n",
      "\u001b[0;31mKeyboardInterrupt\u001b[0m: "
     ]
    }
   ],
   "source": [
    "# testing separability saturation\n",
    "n_jobs = 4\n",
    "num_neighbors = num_neighbors = np.arange(50,450,50)\n",
    "n_repeats = 10\n",
    "n_methods = 18\n",
    "all_sample_sizes = [1,2,4,8,10,20,40,60,80]\n",
    "\n",
    "\n",
    "for n_neighbors in num_neighbors:\n",
    "\n",
    "    #for key,data in real_data_subsampled.items():\n",
    "    for key,data in real_data_subsampled.items():\n",
    "\n",
    "        datasets_done = [i.split('_')[0] for i in list(filter(lambda x: '.data' in x, os.listdir('../results')))]\n",
    "        dataset_name = key\n",
    "        n_samples = data.shape[0]\n",
    "        \n",
    "\n",
    "        if dataset_name in datasets_done:\n",
    "            print('already computed ', dataset_name)\n",
    "            continue\n",
    "\n",
    "        print('\\n',dataset_name)\n",
    "        print('Running subsampling analysis...\\nSubsample percentages = {}\\nNumber of repeats = {}\\nNumber of samples = {}\\nDimension = {}'.format(all_sample_sizes,n_repeats,n_samples,data.shape[1]))\n",
    "        print('----------------------------\\n')\n",
    "        print('kNN = ',n_neighbors)\n",
    "        seed = 0; np.random.seed(seed)\n",
    "        print(f'Random seed set to {seed} before running the test')\n",
    "\n",
    "\n",
    "        all_dim_estimates = np.zeros([n_methods,len(all_sample_sizes)+1,n_repeats,len(data)])\n",
    "\n",
    "        runtimes = []\n",
    "        for i,sz in enumerate(all_sample_sizes[4:]):\n",
    "            \n",
    "            sample_size = int(n_samples*sz/100)\n",
    "            \n",
    "            if sample_size <= 2*n_neighbors:\n",
    "                print(f'Sample size {sample_size} too small for chosen neighborhood {n_neighbors}. continue')\n",
    "                continue\n",
    "            else:\n",
    "                print('Sample size = {}'.format(sample_size))\n",
    "            start_time = time.time()\n",
    "            for j in range(0,n_repeats):\n",
    "                sample = np.random.choice(n_samples,replace=False, size=sample_size)\n",
    "                xs = data[sample,:]\n",
    "\n",
    "                #Run estimators\n",
    "                allres = DE.estimateAllMethodsLocally(xs, k = n_neighbors, n_jobs = n_jobs, ConditionalNumber = 10)\n",
    "\n",
    "                results = allres[0]\n",
    "                runtimes.append(allres[1])\n",
    "\n",
    "                #Store\n",
    "                for it,key in enumerate(results.keys()):\n",
    "                    all_dim_estimates[it,i,j,:len(xs)] =  results[key]\n",
    "\n",
    "\n",
    "            print(\"Elapsed time = {}\".format(time.time()-start_time))\n",
    "\n",
    "        allres = DE.estimateAllMethodsLocally(data, k = n_neighbors, n_jobs = n_jobs, ConditionalNumber = 10)\n",
    "\n",
    "        results = allres[0]\n",
    "        runtimes.append(allres[1])\n",
    "\n",
    "        for i in range(0,n_repeats):\n",
    "            for it,key in enumerate(results.keys()):\n",
    "                all_dim_estimates[it,len(all_sample_sizes),i,:len(data)] =  results[key]\n",
    "\n",
    "        with open(\"../results/\"+dataset_name+\"_all_dim_estimates_kNN\"+str(n_neighbors)+\".npy\",'wb') as f:\n",
    "            pickle.dump(all_dim_estimates,f)\n",
    "\n",
    "with open(\"../results/\"+dataset_name+\"_all_dim_estimates_keys_kNN\"++str(n_neighbors)+\".npy\",'wb') as f:\n",
    "        pickle.dump(list(results.keys()),f)"
   ]
  },
  {
   "cell_type": "code",
   "execution_count": 33,
   "metadata": {},
   "outputs": [],
   "source": [
    "with open(\"../results/\"+dataset_name+\"_all_dim_estimates_kNN\"+str(n_neighbors)+\".npy\",'rb') as f:\n",
    "    res_pw=pickle.load(f)"
   ]
  },
  {
   "cell_type": "code",
   "execution_count": null,
   "metadata": {},
   "outputs": [],
   "source": [
    "#np.random.seed(0);umap_emb = umap.UMAP().fit_transform(data)\n",
    "#plt.scatter(umap_emb[:,0],umap_emb[:,1],c=real_data_subsampled_labels,cmap=plt.cm.Paired);plt.title('MNIST subsample');plt.colorbar();plt.show()\n",
    "#plt.scatter(umap_emb[:,0],umap_emb[:,1],c=res_pw[0]['FisherS'],vmax=np.quantile(res_pw[0]['FisherS'],.99));plt.title('MNIST subsample local ID');plt.colorbar();plt.show()"
   ]
  },
  {
   "cell_type": "code",
   "execution_count": 26,
   "metadata": {},
   "outputs": [],
   "source": [
    "#list_global_id = []\n",
    "#list_pwglobal = []\n",
    "#list_palphas = []\n",
    "#for dataset_name,data in real_data:\n",
    "#\n",
    "#    print(dataset_name)\n",
    "#    start_all=time.time()\n",
    "#\n",
    "#    [n_alpha,n_single,p_alpha,alphas,separable_fraction,Xp] = SeparabilityAnalysis(data,ProducePlots=0,alphas=np.arange(.2,1,.02)[None], ConditionalNumber=10)\n",
    "#    n_pointwise, idx = point_inseparability_to_pointID(n_alpha,n_single,p_alpha,alphas,idx='selected',force_definite_dim=True,verbose=False)\n",
    "#\n",
    "#    list_global_id.append(n_single[0])\n",
    "#    list_pwglobal.append(n_pointwise)\n",
    "#    list_palphas.append(p_alpha)\n",
    "#\n",
    "#    print('elapsed :',round(time.time()-start_all,2))\n",
    "#    \n",
    "#    with open('../results/list_pwglobal_'+dataset_name+'.pkl','wb') as f:\n",
    "#        pickle.dump(list_pwglobal,f)"
   ]
  },
  {
   "cell_type": "code",
   "execution_count": 25,
   "metadata": {},
   "outputs": [],
   "source": [
    "#plt.scatter(umap_emb[:,0],umap_emb[:,1],c=real_data_subsampled_labels[:1000],cmap=plt.cm.Paired);plt.title('MNIST subsample');plt.colorbar();plt.show()\n",
    "#plt.scatter(umap_emb[:,0],umap_emb[:,1],c=n_pointwise);plt.title('MNIST subsample local ID');plt.colorbar();plt.show()"
   ]
  }
 ],
 "metadata": {
  "kernelspec": {
   "display_name": "Python 3",
   "language": "python",
   "name": "python3"
  },
  "language_info": {
   "codemirror_mode": {
    "name": "ipython",
    "version": 3
   },
   "file_extension": ".py",
   "mimetype": "text/x-python",
   "name": "python",
   "nbconvert_exporter": "python",
   "pygments_lexer": "ipython3",
   "version": "3.7.4"
  }
 },
 "nbformat": 4,
 "nbformat_minor": 4
}
